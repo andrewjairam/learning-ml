{
 "cells": [
  {
   "cell_type": "code",
   "execution_count": 1,
   "metadata": {},
   "outputs": [],
   "source": [
    "# Numpy\n",
    "import numpy as np\n",
    "import time\n",
    "import matplotlib.pyplot as plt\n",
    "# Import torch core functionalities\n",
    "import torch\n",
    "# torch neural network library\n",
    "import torch.nn as nn\n",
    "# Activation functions\n",
    "import torch.nn.functional as F\n",
    "# Optimizer to do gradient descent\n",
    "import torch.optim as optim\n",
    "# For stuff like data \n",
    "import torchvision\n",
    "from torch.utils.data.sampler import SubsetRandomSampler\n",
    "import torchvision.transforms as transforms\n",
    "\n",
    "# Try using Cuda\n",
    "\n",
    "device = torch.device('cuda' if torch.cuda.is_available() else 'cpu')"
   ]
  },
  {
   "cell_type": "markdown",
   "metadata": {},
   "source": [
    "NLP: IN Torchtext"
   ]
  },
  {
   "cell_type": "code",
   "execution_count": 2,
   "metadata": {},
   "outputs": [
    {
     "name": "stdout",
     "output_type": "stream",
     "text": [
      "2.4.0+cu118\n"
     ]
    }
   ],
   "source": [
    "print(torch.__version__)"
   ]
  },
  {
   "cell_type": "code",
   "execution_count": 3,
   "metadata": {},
   "outputs": [
    {
     "data": {
      "text/plain": [
       "device(type='cuda')"
      ]
     },
     "execution_count": 3,
     "metadata": {},
     "output_type": "execute_result"
    }
   ],
   "source": [
    "device"
   ]
  },
  {
   "cell_type": "code",
   "execution_count": 5,
   "metadata": {},
   "outputs": [
    {
     "ename": "ModuleNotFoundError",
     "evalue": "No module named 'torchtext'",
     "output_type": "error",
     "traceback": [
      "\u001b[1;31m---------------------------------------------------------------------------\u001b[0m",
      "\u001b[1;31mModuleNotFoundError\u001b[0m                       Traceback (most recent call last)",
      "Cell \u001b[1;32mIn[5], line 1\u001b[0m\n\u001b[1;32m----> 1\u001b[0m \u001b[38;5;28;01mimport\u001b[39;00m \u001b[38;5;21;01mtorchtext\u001b[39;00m\n",
      "\u001b[1;31mModuleNotFoundError\u001b[0m: No module named 'torchtext'"
     ]
    }
   ],
   "source": [
    "import torchtext"
   ]
  },
  {
   "cell_type": "markdown",
   "metadata": {},
   "source": [
    "Model: many to one RNN\n",
    "- to create other models, can modify what comes  (i.e. the classifier) / what goes in\n",
    "\n",
    "How to use below models:\n",
    "- define an embedding\n",
    "    - could be from glove, or from identity matrix\n",
    "        - if identity matrix: \n",
    "            - given training data, find how many unique tokens are in the data: call this vocab_size\n",
    "            -   assign every word a unique number, make a Identity matrix of size $vocab_size$, Identity matrix is now one-hot encoded\n",
    "                - so if $I_{ij} = 1 then take the index, that's the token (we assigned each token as an int before)\n",
    "            - also, in this case, vocab_size = num classes\n",
    "        - if glove:\n",
    "            - just pass in word\n",
    "- define problem parameters\n",
    "    - input_size: (flattened) scalar input value\n",
    "    - num_classes: number of unique tokens in the data\n",
    "- define hyperparameters\n",
    "    - num_layers: number of RNN layers\n",
    "    - hidden_size: number of \"time steps\" the RNN runs through\n",
    "\n",
    "\n",
    "- batch data and run training\n",
    "    - use cross-entropy loss (this is classification)"
   ]
  },
  {
   "cell_type": "markdown",
   "metadata": {},
   "source": [
    "Vanilla RNN model"
   ]
  },
  {
   "cell_type": "code",
   "execution_count": null,
   "metadata": {},
   "outputs": [],
   "source": [
    "class Vanilla(nn.Module):\n",
    "    def __init__(self, input_size, hidden_size, num_classes, emb, num_layers):\n",
    "        super().__init__()\n",
    "        self.emb = emb\n",
    "        self.hidden_size = hidden_size\n",
    "        self.rnn = nn.RNN(input_size, hidden_size, num_layers, batch_first=True)\n",
    "        # Multi-layer classifier: add more linear layers\n",
    "        self.fc = nn.Linear(hidden_size, num_classes)\n",
    "\n",
    "    def forward(self, x):\n",
    "        # Look up the embedding\n",
    "        x = self.emb(x)\n",
    "        # set initial hidden state\n",
    "        h0 = torch.zeros(1, x.size(0), self.hidden_size)\n",
    "        # Forward propagate the RNN (the blank input are the hidden layers)\n",
    "        out, _ = self.rnn(x, h0)\n",
    "        # pass through linear classifier (ONLY the last output, hence -1 in dim=1)\n",
    "        out = self.fc(out[:, -1, :])\n",
    "        return out\n"
   ]
  },
  {
   "cell_type": "markdown",
   "metadata": {},
   "source": [
    "LSTM Model\n",
    "- adds the long term weights"
   ]
  },
  {
   "cell_type": "code",
   "execution_count": null,
   "metadata": {},
   "outputs": [],
   "source": [
    "class Vanilla(nn.Module):\n",
    "    def __init__(self, input_size, hidden_size, num_classes, emb, num_layers):\n",
    "        super().__init__()\n",
    "        self.emb = emb\n",
    "        self.hidden_size = hidden_size\n",
    "        self.rnn = nn.LSTM(input_size, hidden_size, num_layers, batch_first=True)\n",
    "        # Multi-layer classifier: add more linear layers\n",
    "        self.fc = nn.Linear(hidden_size, num_classes)\n",
    "\n",
    "    def forward(self, x):\n",
    "        # Look up the embedding\n",
    "        x = self.emb(x)\n",
    "        # set initial hidden state\n",
    "        h0 = torch.zeros(1, x.size(0), self.hidden_size)\n",
    "        c0 = torch.zeros(1, x.size(0), self.hidden_size)\n",
    "        # Forward propagate the RNN (the blank input are the hidden layers)\n",
    "        out, _ = self.rnn(x, (h0, c0))\n",
    "        # pass through linear classifier (ONLY the last output, hence -1 in dim=1)\n",
    "        out = self.fc(out[:, -1, :])\n",
    "        return out"
   ]
  },
  {
   "cell_type": "markdown",
   "metadata": {},
   "source": [
    "GRU Model"
   ]
  },
  {
   "cell_type": "code",
   "execution_count": null,
   "metadata": {},
   "outputs": [],
   "source": [
    "class Vanilla(nn.Module):\n",
    "    def __init__(self, input_size, hidden_size, num_classes, emb, num_layers):\n",
    "        super().__init__()\n",
    "        self.emb = emb\n",
    "        self.hidden_size = hidden_size\n",
    "        self.rnn = nn.GRU(input_size, hidden_size, num_layers, batch_first=True)\n",
    "        # Multi-layer classifier: add more linear layers\n",
    "        self.fc = nn.Linear(hidden_size, num_classes)\n",
    "\n",
    "    def forward(self, x):\n",
    "        # Look up the embedding\n",
    "        x = self.emb(x)\n",
    "        # set initial hidden state\n",
    "        h0 = torch.zeros(1, x.size(0), self.hidden_size)\n",
    "        # Forward propagate the RNN (the blank input are the hidden layers)\n",
    "        out, _ = self.rnn(x, h0)\n",
    "        # pass through linear classifier (ONLY the last output, hence -1 in dim=1)\n",
    "        out = self.fc(out[:, -1, :])\n",
    "        return out"
   ]
  }
 ],
 "metadata": {
  "kernelspec": {
   "display_name": "Python 3",
   "language": "python",
   "name": "python3"
  },
  "language_info": {
   "codemirror_mode": {
    "name": "ipython",
    "version": 3
   },
   "file_extension": ".py",
   "mimetype": "text/x-python",
   "name": "python",
   "nbconvert_exporter": "python",
   "pygments_lexer": "ipython3",
   "version": "3.10.11"
  }
 },
 "nbformat": 4,
 "nbformat_minor": 2
}
