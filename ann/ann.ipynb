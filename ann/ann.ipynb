{
 "cells": [
  {
   "cell_type": "markdown",
   "metadata": {},
   "source": [
    "# Artificial Neural Network implementation using PyTorch"
   ]
  },
  {
   "cell_type": "markdown",
   "metadata": {},
   "source": [
    "### Overview\n",
    "- Multi-class classification problem\n",
    "- Structure: \n",
    "    - input -> hidden layers -> output (one-hot encoded: i.e. one bucket per class) -> softmax to get probabilites for classes -> choose class with highest probability\n",
    "    - Note: for binary classification, we would use sigmoid activation at the end rather than softmax."
   ]
  },
  {
   "cell_type": "markdown",
   "metadata": {},
   "source": [
    "Import packages here"
   ]
  },
  {
   "cell_type": "code",
   "execution_count": 65,
   "metadata": {},
   "outputs": [],
   "source": [
    "# Numpy\n",
    "import numpy as np\n",
    "import time\n",
    "import matplotlib.pyplot as plt\n",
    "# Import torch core functionalities\n",
    "import torch\n",
    "# torch neural network library\n",
    "import torch.nn as nn\n",
    "# Activation functions\n",
    "import torch.nn.functional as F\n",
    "# Optimizer to do gradient descent\n",
    "import torch.optim as optim\n",
    "# For stuff like data \n",
    "import torchvision\n",
    "from torch.utils.data.sampler import SubsetRandomSampler\n",
    "import torchvision.transforms as transforms"
   ]
  },
  {
   "cell_type": "markdown",
   "metadata": {},
   "source": [
    "### Step 1: Get some data\n",
    "Let's use the MNIST dataset, which is included in the torchvision.datasets module. The goal of the MNIST dataset is classification: identify given an image of a handwritten number, which number a sample is."
   ]
  },
  {
   "cell_type": "code",
   "execution_count": 66,
   "metadata": {},
   "outputs": [],
   "source": [
    "# downloads a local copy of the mnist data set: raw images\n",
    "mnist_data = torchvision.datasets.MNIST('data', train=True, download=True)\n",
    "# Put the images in list format: the items in the list are a tuple of (pillow image objects, identified digit label)\n",
    "    # ex: (address for pillow image, 5), meaning that the digit is hand identified as 5\n",
    "mnist_data = list(mnist_data)"
   ]
  },
  {
   "cell_type": "markdown",
   "metadata": {},
   "source": [
    "Split the data we have into training and validation"
   ]
  },
  {
   "cell_type": "code",
   "execution_count": 67,
   "metadata": {},
   "outputs": [
    {
     "name": "stdout",
     "output_type": "stream",
     "text": [
      "(<PIL.Image.Image image mode=L size=28x28 at 0x1CD285B1B70>, 5)\n",
      "torch.Size([1, 28, 28])\n"
     ]
    }
   ],
   "source": [
    "# Separate 1000 images for training, 1000 images for validation\n",
    "mnist_train = mnist_data[:1000]\n",
    "mnist_val   = mnist_data[1000:2000]\n",
    "# img_to_tensor is initialized as a method that converts an image to a tensor\n",
    "img_to_tensor = torchvision.transforms.ToTensor()\n",
    "\n",
    "print(mnist_train[0])\n",
    "# One datapoint of the image tensor\n",
    "print(img_to_tensor(mnist_train[0][0]).shape)\n"
   ]
  },
  {
   "cell_type": "markdown",
   "metadata": {},
   "source": [
    "### Step 2: Build the neural network model"
   ]
  },
  {
   "cell_type": "markdown",
   "metadata": {},
   "source": [
    "In the chosen dataset, the 28x28 pixel pictures can be converted to a tensor that have dimensions 1x28x28 (see above, the dim 0 = 1 field is not really relevant), \n",
    "so we need an input layer of 28 * 28 = 784 units. <br>\n",
    "\n",
    "Since there are 10 classes to guess from, which are the numbers 0 - 9, we need 10 outputs in the output layer: the NN will output numbers to these 10 outputs, and the index with the highest value in the <br> tensor will be the prediction of the class. <br>\n",
    "\n",
    "The number of hidden layers and number of neurons/units in each layer are hyperparameters: For this implementation, we will go with two additional layers. <br>\n",
    "\n",
    "Input layer: 28*28 pixels = 784 pixels of info <br>\n",
    "Hidden layer 1: some number of hidden units $n_{1}$ <br>\n",
    "Hidden layer 2: some number of hidden units $n_{2}$ <br>\n",
    "Output: a 1x10 tensor that gives \"probability\" that the image belongs to a class (a number from 0-9): prediction is the highest probability\n",
    "- we need to apply softmax to this tensor to give the actual probabilities in range [0,1]: but in theory this is not needed. For Binary classification: we use sigmoid instead\n",
    "- WE DO NOT APPLY SOFTMAX IN THE NN CLASS: the loss function expects logits (i.e. outputs of linear layers without any activation applied to them)\n",
    "\n",
    "All layers are fully connected in this linear method"
   ]
  },
  {
   "cell_type": "code",
   "execution_count": 68,
   "metadata": {},
   "outputs": [],
   "source": [
    "import torch\n",
    "import torch.nn as nn\n",
    "import torch.nn.functional as F\n",
    "\n",
    "class Model(nn.Module):\n",
    "    def __init__(self, in_features=28*28, n1=8, n2=9, out_features=10):\n",
    "        # necessary step to initialize an object in its own class\n",
    "        super().__init__()\n",
    "        # Can program two linear, fully connected layers in using the nn.Linear method:\n",
    "        self.layer1 = nn.Linear(in_features, n1)\n",
    "        self.layer2 = nn.Linear(n1, n2)\n",
    "        self.out = nn.Linear(n2, out_features)\n",
    "    def forward(self, x):\n",
    "        # NOTE: x is a 1x784 TENSOR object\n",
    "        # activation function 1: RELU\n",
    "        x = F.relu(self.layer1(x))\n",
    "        # activation function 2: using RELU\n",
    "        x = F.relu(self.layer2(x))\n",
    "        # Output layer: DONT APPLY SOFTMAX HERE\n",
    "        y = self.out(x)\n",
    "\n",
    "        return y\n",
    "    "
   ]
  },
  {
   "cell_type": "markdown",
   "metadata": {},
   "source": [
    "### Step 3: Train"
   ]
  },
  {
   "cell_type": "markdown",
   "metadata": {},
   "source": [
    "Choose Hyperparameters:"
   ]
  },
  {
   "cell_type": "code",
   "execution_count": 69,
   "metadata": {},
   "outputs": [],
   "source": [
    "# layer size 1\n",
    "n1 = 50\n",
    "# layer size 2\n",
    "n2 = 50\n",
    "# learning rate\n",
    "learning_rate = 0.01\n",
    "# epochs: one run through all the data\n",
    "epochs = 1000\n",
    "# momentum term for stochastic gradient descent\n",
    "SGD_momentum = 0.9"
   ]
  },
  {
   "cell_type": "markdown",
   "metadata": {},
   "source": [
    "Instansiate an instance of the model class:"
   ]
  },
  {
   "cell_type": "code",
   "execution_count": 70,
   "metadata": {},
   "outputs": [
    {
     "data": {
      "text/plain": [
       "<bound method Module.parameters of Model(\n",
       "  (layer1): Linear(in_features=784, out_features=50, bias=True)\n",
       "  (layer2): Linear(in_features=50, out_features=50, bias=True)\n",
       "  (out): Linear(in_features=50, out_features=10, bias=True)\n",
       ")>"
      ]
     },
     "execution_count": 70,
     "metadata": {},
     "output_type": "execute_result"
    }
   ],
   "source": [
    "# sets a manual seed for randomization\n",
    "torch.manual_seed(1)\n",
    "# Create an instance of our model\n",
    "model = Model(28*28, n1, n2, 10)\n",
    "model.parameters"
   ]
  },
  {
   "cell_type": "markdown",
   "metadata": {},
   "source": [
    "Set criterion of the model too measure error: aka the type of Loss function, and an optimizer to do the gradient descent\n",
    "Design:\n",
    "- using a cross entropy loss criterion: <br>\n",
    "$ H(p, q) = -\\sum_{x \\epsilon classes} p(x)log q(x) $\n",
    "- using stochastic Gradient Descent with momentum as the weight update: <br> \n",
    "$v_{ji}^t = \\lambda v_{ji}^{t-1} - \\gamma\\frac{\\partial E}{\\partial w_{ji}}$ <br>\n",
    "$w_{ji}^{t+1} = w_{ji}^{t} + v_{ji}^{t}$\n",
    "- where:\n",
    "    - $p(x)$ is the true distribution, i.e. the true label of the input \n",
    "    - $q(x)$ is the predicted distribution, i.e. the predicted label of the input \n",
    "    - $w_{ji}$ is the $j^{th}$ component of the weight vector at some step $i$ in $y = w^Tx$\n",
    "    - $E$ is the error/loss function (i.e. the cross-entropy loss equation)\n",
    "    - $v_{ji}$ is the intermediate SGD term for each weight component\n",
    "    - $\\gamma$ is the learning rate\n",
    "    - $\\lambda$ is the momentum term (from 0 to 1)\n"
   ]
  },
  {
   "cell_type": "code",
   "execution_count": 71,
   "metadata": {},
   "outputs": [],
   "source": [
    "criterion = nn.CrossEntropyLoss()\n",
    "optimizer = torch.optim.SGD(model.parameters(), lr = learning_rate, momentum=SGD_momentum)"
   ]
  },
  {
   "cell_type": "markdown",
   "metadata": {},
   "source": [
    "Prep the data: collect training data in X: a tensor where each item is a 1 x 784 block of pixel info"
   ]
  },
  {
   "cell_type": "code",
   "execution_count": 72,
   "metadata": {},
   "outputs": [
    {
     "name": "stdout",
     "output_type": "stream",
     "text": [
      "torch.Size([1000, 784])\n",
      "torch.Size([1000])\n"
     ]
    }
   ],
   "source": [
    "X = []\n",
    "y = []\n",
    "\n",
    "for (image, label) in mnist_train:\n",
    "    # we assume image is still in image format. above we imported img_to_tensor to convert the image to a tensor:\n",
    "    img_tensor = img_to_tensor(image)\n",
    "    # since img_tensor is a 28*28 image, we need to flatten it to a 1x784 vector:\n",
    "    # -1 means that the dimension is inferred: since we are using all the 784 elements in the tensor, \n",
    "    # Pytorch infers the dimension as one: since there's nothing else to store\n",
    "    flattened = img_tensor.view(-1, 28*28)\n",
    "    X.append(flattened)\n",
    "    y.append(label)\n",
    "\n",
    "X_train = torch.cat(X, dim = 0)\n",
    "y_train = torch.LongTensor(y)\n",
    "\n",
    "print(X_train.shape)\n",
    "print(y_train.shape)\n"
   ]
  },
  {
   "cell_type": "markdown",
   "metadata": {},
   "source": [
    "Now we do the training with these training samples:"
   ]
  },
  {
   "cell_type": "code",
   "execution_count": 73,
   "metadata": {},
   "outputs": [
    {
     "name": "stdout",
     "output_type": "stream",
     "text": [
      "Epoch: 0 and loss: 2.2991480827331543\n",
      "Epoch: 10 and loss: 2.2864186763763428\n",
      "Epoch: 20 and loss: 2.2609505653381348\n",
      "Epoch: 30 and loss: 2.223745584487915\n",
      "Epoch: 40 and loss: 2.1692094802856445\n",
      "Epoch: 50 and loss: 2.0873661041259766\n",
      "Epoch: 60 and loss: 1.9636123180389404\n",
      "Epoch: 70 and loss: 1.7852050065994263\n",
      "Epoch: 80 and loss: 1.5526725053787231\n",
      "Epoch: 90 and loss: 1.3017765283584595\n",
      "Epoch: 100 and loss: 1.0793218612670898\n",
      "Epoch: 110 and loss: 0.9053601622581482\n",
      "Epoch: 120 and loss: 0.7750953435897827\n",
      "Epoch: 130 and loss: 0.6771579384803772\n",
      "Epoch: 140 and loss: 0.6019294261932373\n",
      "Epoch: 150 and loss: 0.5426348447799683\n",
      "Epoch: 160 and loss: 0.4947145879268646\n",
      "Epoch: 170 and loss: 0.4551957845687866\n",
      "Epoch: 180 and loss: 0.42189550399780273\n",
      "Epoch: 190 and loss: 0.39330434799194336\n",
      "Epoch: 200 and loss: 0.36842185258865356\n",
      "Epoch: 210 and loss: 0.34646713733673096\n",
      "Epoch: 220 and loss: 0.326918363571167\n",
      "Epoch: 230 and loss: 0.30935201048851013\n",
      "Epoch: 240 and loss: 0.2934122681617737\n",
      "Epoch: 250 and loss: 0.2788962125778198\n",
      "Epoch: 260 and loss: 0.2655196189880371\n",
      "Epoch: 270 and loss: 0.25310957431793213\n",
      "Epoch: 280 and loss: 0.24157309532165527\n",
      "Epoch: 290 and loss: 0.23078955709934235\n",
      "Epoch: 300 and loss: 0.22066619992256165\n",
      "Epoch: 310 and loss: 0.21114470064640045\n",
      "Epoch: 320 and loss: 0.2021629363298416\n",
      "Epoch: 330 and loss: 0.19369742274284363\n",
      "Epoch: 340 and loss: 0.18567311763763428\n",
      "Epoch: 350 and loss: 0.17805203795433044\n",
      "Epoch: 360 and loss: 0.17079545557498932\n",
      "Epoch: 370 and loss: 0.16387003660202026\n",
      "Epoch: 380 and loss: 0.157242551445961\n",
      "Epoch: 390 and loss: 0.15090572834014893\n",
      "Epoch: 400 and loss: 0.1448332667350769\n",
      "Epoch: 410 and loss: 0.13901349902153015\n",
      "Epoch: 420 and loss: 0.13341528177261353\n",
      "Epoch: 430 and loss: 0.12803375720977783\n",
      "Epoch: 440 and loss: 0.12285365164279938\n",
      "Epoch: 450 and loss: 0.11786988377571106\n",
      "Epoch: 460 and loss: 0.11307971179485321\n",
      "Epoch: 470 and loss: 0.10847398638725281\n",
      "Epoch: 480 and loss: 0.10404800623655319\n",
      "Epoch: 490 and loss: 0.0997924953699112\n",
      "Epoch: 500 and loss: 0.09570460766553879\n",
      "Epoch: 510 and loss: 0.09178207814693451\n",
      "Epoch: 520 and loss: 0.08802001923322678\n",
      "Epoch: 530 and loss: 0.08441613614559174\n",
      "Epoch: 540 and loss: 0.08096771687269211\n",
      "Epoch: 550 and loss: 0.07766975462436676\n",
      "Epoch: 560 and loss: 0.0745076909661293\n",
      "Epoch: 570 and loss: 0.07148661464452744\n",
      "Epoch: 580 and loss: 0.0685974732041359\n",
      "Epoch: 590 and loss: 0.06583937257528305\n",
      "Epoch: 600 and loss: 0.06321337819099426\n",
      "Epoch: 610 and loss: 0.06071726977825165\n",
      "Epoch: 620 and loss: 0.05834319815039635\n",
      "Epoch: 630 and loss: 0.05608341470360756\n",
      "Epoch: 640 and loss: 0.0539184994995594\n",
      "Epoch: 650 and loss: 0.05182609707117081\n",
      "Epoch: 660 and loss: 0.049833137542009354\n",
      "Epoch: 670 and loss: 0.04794420674443245\n",
      "Epoch: 680 and loss: 0.046155571937561035\n",
      "Epoch: 690 and loss: 0.04445972293615341\n",
      "Epoch: 700 and loss: 0.04284808412194252\n",
      "Epoch: 710 and loss: 0.041315704584121704\n",
      "Epoch: 720 and loss: 0.03985888138413429\n",
      "Epoch: 730 and loss: 0.03847416862845421\n",
      "Epoch: 740 and loss: 0.037156425416469574\n",
      "Epoch: 750 and loss: 0.035903673619031906\n",
      "Epoch: 760 and loss: 0.034710463136434555\n",
      "Epoch: 770 and loss: 0.033574000000953674\n",
      "Epoch: 780 and loss: 0.03249141573905945\n",
      "Epoch: 790 and loss: 0.03145884349942207\n",
      "Epoch: 800 and loss: 0.03047397918999195\n",
      "Epoch: 810 and loss: 0.02953389659523964\n",
      "Epoch: 820 and loss: 0.028636353090405464\n",
      "Epoch: 830 and loss: 0.027779482305049896\n",
      "Epoch: 840 and loss: 0.02696184813976288\n",
      "Epoch: 850 and loss: 0.02618020959198475\n",
      "Epoch: 860 and loss: 0.025432242080569267\n",
      "Epoch: 870 and loss: 0.024716917425394058\n",
      "Epoch: 880 and loss: 0.02403174340724945\n",
      "Epoch: 890 and loss: 0.02337532863020897\n",
      "Epoch: 900 and loss: 0.022746196016669273\n",
      "Epoch: 910 and loss: 0.022143004462122917\n",
      "Epoch: 920 and loss: 0.021564239636063576\n",
      "Epoch: 930 and loss: 0.02100847102701664\n",
      "Epoch: 940 and loss: 0.020474903285503387\n",
      "Epoch: 950 and loss: 0.019962197169661522\n",
      "Epoch: 960 and loss: 0.019469376653432846\n",
      "Epoch: 970 and loss: 0.0189953800290823\n",
      "Epoch: 980 and loss: 0.01853877864778042\n",
      "Epoch: 990 and loss: 0.018098879605531693\n"
     ]
    }
   ],
   "source": [
    "# y_pred = model.forward(X_train)\n",
    "# print(y_pred[999])\n",
    "# loss = criterion(y_pred, y_train)\n",
    "# print(loss)\n",
    "\n",
    "losses = []\n",
    "accuracies = []\n",
    "\n",
    "for i in range(epochs):\n",
    "    # get prediction from model given data\n",
    "    y_pred = model.forward(X_train)\n",
    "\n",
    "    # Measure loss/error\n",
    "    loss = criterion(y_pred, y_train)\n",
    "\n",
    "    # Keep track of the losses:\n",
    "    losses.append(loss.detach().numpy()) # detatch turns the tensor quantity into a numpy quantity so we can graph the losses\n",
    "\n",
    "    # Keep track of accuracy:\n",
    "    # Can apply softmax here:\n",
    "    prob = F.softmax(y_pred, dim=1) \n",
    "    correct_guesses = 0\n",
    "    # this will get us the index with the highest value in the 1x10 y_pred, which will give us the actual predictions\n",
    "    actual_guesses = torch.argmax(prob, dim=1)\n",
    "    for j, guess in enumerate(actual_guesses):\n",
    "        if guess == y_train[j]:\n",
    "            correct_guesses += 1\n",
    "    accuracies.append(correct_guesses * 100 / len(y_pred))\n",
    "\n",
    "    # Print losses every 10 epochs\n",
    "    if i % 10 == 0:\n",
    "        print(f'Epoch: {i} and loss: {loss}')\n",
    "\n",
    "    # Do back-propagation to adjust the weights: \n",
    "    # take error rate of the forward propagation and do some gradient descent algorithm (our case: SGD). Very east to do using torch:\n",
    "\n",
    "    # Computes the back-propagation for each parameter:\n",
    "    loss.backward()\n",
    "    # Applies the update for each parameter\n",
    "    optimizer.step()\n",
    "    # Cleanup step for Pytorch\n",
    "    optimizer.zero_grad()"
   ]
  },
  {
   "cell_type": "markdown",
   "metadata": {},
   "source": [
    "### Step 4: Tweak hyperparameters"
   ]
  },
  {
   "cell_type": "markdown",
   "metadata": {},
   "source": [
    "Plotting the loss to visualize our machine learning process:"
   ]
  },
  {
   "cell_type": "code",
   "execution_count": 74,
   "metadata": {},
   "outputs": [
    {
     "data": {
      "text/plain": [
       "Text(0.5, 0, 'Epoch Number')"
      ]
     },
     "execution_count": 74,
     "metadata": {},
     "output_type": "execute_result"
    },
    {
     "data": {
      "image/png": "[encoded data removed]",
      "text/plain": [
       "<Figure size 640x480 with 1 Axes>"
      ]
     },
     "metadata": {},
     "output_type": "display_data"
    }
   ],
   "source": [
    "plt.plot(range(epochs), losses)\n",
    "plt.ylabel(\"Loss\")\n",
    "plt.xlabel(\"Epoch Number\")"
   ]
  },
  {
   "cell_type": "markdown",
   "metadata": {},
   "source": [
    "Visualizing Accuracies:"
   ]
  },
  {
   "cell_type": "code",
   "execution_count": 75,
   "metadata": {},
   "outputs": [
    {
     "name": "stdout",
     "output_type": "stream",
     "text": [
      "Final Accuracy of the model: 100.0%\n"
     ]
    },
    {
     "data": {
      "image/png": "[encoded data removed]",
      "text/plain": [
       "<Figure size 640x480 with 1 Axes>"
      ]
     },
     "metadata": {},
     "output_type": "display_data"
    }
   ],
   "source": [
    "plt.plot(range(len(accuracies)), accuracies)\n",
    "plt.ylabel(\"Accuracy\")\n",
    "plt.xlabel(\"Epoch Number\")\n",
    "\n",
    "print(f\"Final Accuracy of the model: {accuracies[-1]}%\")"
   ]
  },
  {
   "cell_type": "markdown",
   "metadata": {},
   "source": [
    "### Step 5: Test on the Validation set with the model done"
   ]
  },
  {
   "cell_type": "markdown",
   "metadata": {},
   "source": [
    "i.e.: make predictions without updating the weights (i.e. doing any backpropagation)"
   ]
  },
  {
   "cell_type": "code",
   "execution_count": 76,
   "metadata": {},
   "outputs": [
    {
     "name": "stdout",
     "output_type": "stream",
     "text": [
      "loss: 0.017675215378403664,  accuracy: 100.0\n"
     ]
    }
   ],
   "source": [
    "# Prep the test data the same as before\n",
    "X_temp = []\n",
    "y_temp = []\n",
    "\n",
    "for (image, label) in mnist_train:\n",
    "    # we assume image is still in image format. above we imported img_to_tensor to convert the image to a tensor:\n",
    "    img_tensor = img_to_tensor(image)\n",
    "    # since img_tensor is a 28*28 image, we need to flatten it to a 1x784 vector:\n",
    "    # -1 means that the dimension is inferred: since we are using all the 784 elements in the tensor, \n",
    "    # Pytorch infers the dimension as one: since there's nothing else to store\n",
    "    flattened = img_tensor.view(-1, 28*28)\n",
    "    X_temp.append(flattened)\n",
    "    y_temp.append(label)\n",
    "\n",
    "X_test = torch.cat(X_temp, dim = 0)\n",
    "y_test = torch.LongTensor(y_temp)\n",
    "\n",
    "# keep correct guesses here \n",
    "correct_guesses_test = 0\n",
    "# TURN OFF BACK PROPAGATION USING torch.no_grad():\n",
    "with torch.no_grad():\n",
    "    y_eval = model.forward(X_test)\n",
    "    loss = criterion(y_eval, y_test)\n",
    "    # DID NOT apply softmax here, can see that it doesn't matter\n",
    "    actual_guesses_test = torch.argmax(y_eval, dim=1)\n",
    "    for j, guess in enumerate(actual_guesses_test):\n",
    "        if guess == y_test[j]:\n",
    "            correct_guesses_test += 1\n",
    "\n",
    "print(f\"loss: {loss},  accuracy: {correct_guesses_test * 100 / len(y_eval)}\")"
   ]
  },
  {
   "cell_type": "markdown",
   "metadata": {},
   "source": [
    "### Conclusions from training"
   ]
  },
  {
   "cell_type": "markdown",
   "metadata": {},
   "source": [
    "- smaller learning rate is better\n",
    "- more layers are better\n",
    "- more units per layer are better\n",
    "- for SGD: higher momentum is better\n",
    "- more epochs are better\n",
    "- activation functions need to be carefully chosen: however for this case, RelU seemed to work fine for both layers\n",
    "\n",
    "Obviously increasing accuracy comes with the tradeoff of making the model slower, so one should be careful in choosing hyperparameters that max out CPU/GPU usage in a given time frame needed.\n",
    "While these are obvious conclusions, it's nice to have them here.\n",
    "\n",
    "- Also:\n",
    "    - Softmax doesn't actually change the result if you take the argmax of the tensor: It will return the same result\n"
   ]
  }
 ],
 "metadata": {
  "kernelspec": {
   "display_name": "Python 3",
   "language": "python",
   "name": "python3"
  },
  "language_info": {
   "codemirror_mode": {
    "name": "ipython",
    "version": 3
   },
   "file_extension": ".py",
   "mimetype": "text/x-python",
   "name": "python",
   "nbconvert_exporter": "python",
   "pygments_lexer": "ipython3",
   "version": "3.10.11"
  }
 },
 "nbformat": 4,
 "nbformat_minor": 2
}
