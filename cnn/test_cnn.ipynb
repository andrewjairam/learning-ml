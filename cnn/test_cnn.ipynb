{
 "cells": [
  {
   "cell_type": "code",
   "execution_count": 1,
   "metadata": {},
   "outputs": [],
   "source": [
    "# Numpy\n",
    "import numpy as np\n",
    "import time\n",
    "import matplotlib.pyplot as plt\n",
    "# Import torch core functionalities\n",
    "import torch\n",
    "# torch neural network library\n",
    "import torch.nn as nn\n",
    "# Activation functions\n",
    "import torch.nn.functional as F\n",
    "# Optimizer to do gradient descent\n",
    "import torch.optim as optim\n",
    "# For stuff like data \n",
    "import torchvision\n",
    "from torch.utils.data.sampler import SubsetRandomSampler\n",
    "import torchvision.transforms as transforms"
   ]
  },
  {
   "cell_type": "code",
   "execution_count": 4,
   "metadata": {},
   "outputs": [],
   "source": [
    "class CNN2(nn.Module):\n",
    "    def __init__(self):\n",
    "        super().__init__()\n",
    "        # DIM = 3x32x32\n",
    "        self.conv1 = nn.Conv2d(in_channels=3, out_channels=5, kernel_size=3, stride=1, padding='same')\n",
    "        # DIM = 5x32x32\n",
    "        self.pool = nn.MaxPool2d(kernel_size=2,stride=2)\n",
    "        # DIM = (32 - 2(0) - 2)/2 + 1 = 16 -> 5x16x16\n",
    "        self.o = 16\n",
    "\n",
    "        self.conv2 = nn.Conv2d(in_channels=5, out_channels=10, kernel_size=3, stride=1, padding='same')\n",
    "        # DIM = 10x16x16\n",
    "        # self.pool = nn.MaxPool2d(kernel_size=2,stride=2): dont need to define this here since its the same pooling layer\n",
    "        # DIM = (16 - 2(0) - 2)/2 + 1 = 8 -> 10x8x8\n",
    "        self.o2 = 8\n",
    "        \n",
    "        self.flattened_dim = self.o2*self.o2*10\n",
    "        self.fc1 = nn.Linear(in_features=self.flattened_dim, out_features=50)\n",
    "        self.out = nn.Linear(in_features=50, out_features=10)\n",
    "\n",
    "    def forward(self, x):\n",
    "        x = self.pool(F.relu(self.conv1(x)))\n",
    "        x = self.pool(F.relu(self.conv2(x)))\n",
    "        x = x.view(-1, self.flattened_dim)\n",
    "        x = F.relu(self.fc1(x))\n",
    "        x = self.out(x)\n",
    "\n",
    "        return F.softmax(x, dim=1)"
   ]
  },
  {
   "cell_type": "code",
   "execution_count": 9,
   "metadata": {},
   "outputs": [
    {
     "name": "stdout",
     "output_type": "stream",
     "text": [
      "Files already downloaded and verified\n"
     ]
    }
   ],
   "source": [
    "transform = transforms.ToTensor()\n",
    "train_data = datasets.CIFAR10('data', train=True, download=True, transform=transform)"
   ]
  },
  {
   "cell_type": "code",
   "execution_count": null,
   "metadata": {},
   "outputs": [],
   "source": [
    "epochs = 50\n",
    "\n",
    "for i in range(epochs)"
   ]
  }
 ],
 "metadata": {
  "kernelspec": {
   "display_name": "Python 3",
   "language": "python",
   "name": "python3"
  },
  "language_info": {
   "codemirror_mode": {
    "name": "ipython",
    "version": 3
   },
   "file_extension": ".py",
   "mimetype": "text/x-python",
   "name": "python",
   "nbconvert_exporter": "python",
   "pygments_lexer": "ipython3",
   "version": "3.10.11"
  }
 },
 "nbformat": 4,
 "nbformat_minor": 2
}
